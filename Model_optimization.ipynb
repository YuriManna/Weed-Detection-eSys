{
 "cells": [
  {
   "cell_type": "code",
   "execution_count": null,
   "id": "fc9e7942",
   "metadata": {},
   "outputs": [],
   "source": [
    "# Pruning"
   ]
  },
  {
   "cell_type": "markdown",
   "id": "02b3ac28",
   "metadata": {},
   "source": []
  }
 ],
 "metadata": {
  "language_info": {
   "name": "python"
  }
 },
 "nbformat": 4,
 "nbformat_minor": 5
}
